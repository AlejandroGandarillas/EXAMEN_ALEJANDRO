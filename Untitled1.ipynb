{
 "cells": [
  {
   "cell_type": "code",
   "execution_count": 1,
   "id": "ae1c149d-c35d-4225-af2a-f829125273d7",
   "metadata": {},
   "outputs": [
    {
     "name": "stdout",
     "output_type": "stream",
     "text": [
      "   56481\n"
     ]
    }
   ],
   "source": [
    "!cat ./datasets/Apache.log | wc -l"
   ]
  },
  {
   "cell_type": "code",
   "execution_count": 2,
   "id": "3bffa47c-27f9-4487-9f7c-51774bad8d46",
   "metadata": {},
   "outputs": [
    {
     "name": "stdout",
     "output_type": "stream",
     "text": [
      "[Thu Jun 09 06:07:04 2005] [notice] LDAP: Built with OpenLDAP LDAP SDK\n",
      "[Thu Jun 09 06:07:04 2005] [notice] LDAP: SSL support unavailable\n",
      "[Thu Jun 09 06:07:04 2005] [notice] suEXEC mechanism enabled (wrapper: /usr/sbin/suexec)\n",
      "[Thu Jun 09 06:07:05 2005] [notice] Digest: generating secret for digest authentication ...\n",
      "[Thu Jun 09 06:07:05 2005] [notice] Digest: done\n",
      "[Thu Jun 09 06:07:05 2005] [notice] LDAP: Built with OpenLDAP LDAP SDK\n",
      "[Thu Jun 09 06:07:05 2005] [notice] LDAP: SSL support unavailable\n",
      "[Thu Jun 09 06:07:05 2005] [error] env.createBean2(): Factory error creating channel.jni:jni ( channel.jni, jni)\n",
      "[Thu Jun 09 06:07:05 2005] [error] config.update(): Can't create channel.jni:jni\n",
      "[Thu Jun 09 06:07:05 2005] [error] env.createBean2(): Factory error creating vm: ( vm, )\n"
     ]
    }
   ],
   "source": [
    "!head ./datasets/Apache.log"
   ]
  },
  {
   "cell_type": "code",
   "execution_count": 16,
   "id": "3f77cf6a-aa60-47d0-9e7b-72e28aa7325d",
   "metadata": {},
   "outputs": [
    {
     "name": "stdout",
     "output_type": "stream",
     "text": [
      " 168 [warn]\n",
      "4478 to\n",
      "13755 [notice]\n",
      "38081 [error]\n"
     ]
    }
   ],
   "source": [
    "!cat ./datasets/Apache.log | cut -d' ' -f6 | sort | uniq -c | sort -n"
   ]
  },
  {
   "cell_type": "code",
   "execution_count": null,
   "id": "6d8fb3cd-4298-4f09-acdc-eb4717a807c5",
   "metadata": {},
   "outputs": [],
   "source": [
    "!grep to ./datasets/Apache.log "
   ]
  }
 ],
 "metadata": {
  "kernelspec": {
   "display_name": "Python 3 (ipykernel)",
   "language": "python",
   "name": "python3"
  },
  "language_info": {
   "codemirror_mode": {
    "name": "ipython",
    "version": 3
   },
   "file_extension": ".py",
   "mimetype": "text/x-python",
   "name": "python",
   "nbconvert_exporter": "python",
   "pygments_lexer": "ipython3",
   "version": "3.12.3"
  }
 },
 "nbformat": 4,
 "nbformat_minor": 5
}
