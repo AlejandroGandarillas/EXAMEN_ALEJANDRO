{
 "cells": [
  {
   "cell_type": "code",
   "execution_count": 1,
   "id": "e95c02aa-4a71-47bd-b7c7-e8ef79c333b4",
   "metadata": {},
   "outputs": [
    {
     "name": "stdout",
     "output_type": "stream",
     "text": [
      "Hola mundo\n"
     ]
    }
   ],
   "source": [
    "print (\"Hola mundo\")"
   ]
  },
  {
   "cell_type": "code",
   "execution_count": 2,
   "id": "ab6585be-675a-4cf8-abd4-68f2377b090d",
   "metadata": {},
   "outputs": [
    {
     "data": {
      "text/plain": [
       "2160"
      ]
     },
     "execution_count": 2,
     "metadata": {},
     "output_type": "execute_result"
    }
   ],
   "source": [
    "3 * 12 * 60"
   ]
  },
  {
   "cell_type": "code",
   "execution_count": 4,
   "id": "53fbd1bf-b57c-4582-9581-e218350daabd",
   "metadata": {},
   "outputs": [
    {
     "name": "stdout",
     "output_type": "stream",
     "text": [
      "2160\n"
     ]
    }
   ],
   "source": [
    "var1 = 3 * 12 * 60\n",
    "print (var1)"
   ]
  },
  {
   "cell_type": "markdown",
   "id": "ed17900d-09a2-4dff-9194-9fd549658402",
   "metadata": {},
   "source": [
    "# Introduccion a libreta Jupyter\n",
    "## Formato basico markdown\n",
    "### tercera linea\n",
    "\n",
    "Este es un ejemplo de diferentes estilos de texto **negrita**, _cursiva_, ~~tachado~~, **_Cursiva Bold_**, <sub>subscript</sub>, <sup>subscript</sup>\n",
    "\n",
    "> este es un quote\n",
    "\n",
    "el uso del comando `git status` me responde los cambios en mi repo local\n",
    "\n",
    "Some basic Git commands are:\n",
    "```\n",
    "git status\n",
    "git add\n",
    "git commit\n",
    "```\n",
    "\n",
    "$$ \\int_{a}^{b} f(x) \\, dx = F(b) - F(a) $$\n",
    "\n",
    "$$ E = mc^2 $$\n",
    "\n",
    "para mas informacion:\n",
    "[aqui](https://docs.github.com/es/get-started/writing-on-github/getting-started-with-writing-and-formatting-on-github/basic-writing-and-formatting-syntax)"
   ]
  },
  {
   "cell_type": "markdown",
   "id": "37de8d29-567a-4a7d-9985-c40c0e85499c",
   "metadata": {},
   "source": [
    "---------------"
   ]
  },
  {
   "cell_type": "markdown",
   "id": "2a5080da-d3b7-4629-b81f-621adbb01aaf",
   "metadata": {},
   "source": [
    "# COMANDOS UNIX"
   ]
  },
  {
   "cell_type": "code",
   "execution_count": 6,
   "id": "1d1b6e4e-334b-4f3f-bace-7fce868a960d",
   "metadata": {},
   "outputs": [
    {
     "name": "stdout",
     "output_type": "stream",
     "text": [
      "/Users/khemtz/Desktop/Clase_Data_Science/python101\n"
     ]
    }
   ],
   "source": [
    "!pwd"
   ]
  },
  {
   "cell_type": "code",
   "execution_count": 8,
   "id": "159f3491-0ef8-44da-b562-53f9b8c707af",
   "metadata": {},
   "outputs": [
    {
     "name": "stdout",
     "output_type": "stream",
     "text": [
      "03_Numpy_Notebook.ipynb \u001b[34mdatasets\u001b[m\u001b[m                \u001b[34mprueba3.12\u001b[m\u001b[m\n",
      "README.md               datasets.zip            \u001b[34mprueba3.4\u001b[m\u001b[m\n",
      "Untitled.ipynb          intro_jupiter.ipynb     temp.txt\n",
      "comandos unix.ipynb     \u001b[34mprueba\u001b[m\u001b[m\n",
      "********************\n",
      "fruits.txt      shakespeare.txt\n"
     ]
    }
   ],
   "source": [
    "!ls\n",
    "!echo \"********************\"\n",
    "!ls datasets"
   ]
  },
  {
   "cell_type": "code",
   "execution_count": 11,
   "id": "929fd9b5-a31e-43c2-b5e7-45b349f1d4be",
   "metadata": {},
   "outputs": [
    {
     "name": "stdout",
     "output_type": "stream",
     "text": [
      "Peaches\n",
      "Apples\n",
      "Strawberries\n"
     ]
    }
   ],
   "source": [
    "!head -n 3 ./datasets/fruits.txt"
   ]
  },
  {
   "cell_type": "code",
   "execution_count": 12,
   "id": "6803c8b4-ee38-4ac7-9066-0907e1970434",
   "metadata": {},
   "outputs": [
    {
     "name": "stdout",
     "output_type": "stream",
     "text": [
      "       8       8      64 ./datasets/fruits.txt\n"
     ]
    }
   ],
   "source": [
    "!wc ./datasets/fruits.txt"
   ]
  },
  {
   "cell_type": "markdown",
   "id": "89294a36-96d6-4df5-a72d-5d3a34fd2801",
   "metadata": {},
   "source": [
    "Para Obtener solo el numero de lineas:\n",
    "`` wc -l ``\n"
   ]
  },
  {
   "cell_type": "code",
   "execution_count": 13,
   "id": "515e6a6e-c1b0-4af1-8f26-bc7c8c30ee01",
   "metadata": {},
   "outputs": [
    {
     "name": "stdout",
     "output_type": "stream",
     "text": [
      "       8 ./datasets/fruits.txt\n"
     ]
    }
   ],
   "source": [
    "!wc -l ./datasets/fruits.txt"
   ]
  },
  {
   "cell_type": "code",
   "execution_count": 15,
   "id": "a7ac7fd1-fe65-4424-b9c5-40520615709d",
   "metadata": {},
   "outputs": [
    {
     "name": "stdout",
     "output_type": "stream",
     "text": [
      "  124505  901447 5583442 ./datasets/shakespeare.txt\n"
     ]
    }
   ],
   "source": [
    "!wc ./datasets/shakespeare.txt"
   ]
  },
  {
   "cell_type": "code",
   "execution_count": 1,
   "id": "0302d2d1-296b-4628-95c7-d5c8a88b9caa",
   "metadata": {},
   "outputs": [
    {
     "name": "stdout",
     "output_type": "stream",
     "text": [
      "Peaches\n",
      "Apples\n",
      "Strawberries\n",
      "Grapes\n",
      "Oranges\n",
      "Apples\n",
      "Peaches\n",
      "Melon\n"
     ]
    }
   ],
   "source": [
    "!cat ./datasets/fruits.txt"
   ]
  },
  {
   "cell_type": "markdown",
   "id": "aee333bf-d960-4e4b-8bf5-199e5247a05e",
   "metadata": {},
   "source": [
    "## Como obtendrian el numero de veces que aparece cada fruta?"
   ]
  },
  {
   "cell_type": "code",
   "execution_count": 2,
   "id": "8f70db99-328b-4f8a-ad4e-f99f68b2ce2d",
   "metadata": {},
   "outputs": [
    {
     "name": "stdout",
     "output_type": "stream",
     "text": [
      "Apples\n",
      "Apples\n",
      "Grapes\n",
      "Melon\n",
      "Oranges\n",
      "Peaches\n",
      "Peaches\n",
      "Strawberries\n"
     ]
    }
   ],
   "source": [
    "!cat ./datasets/fruits.txt | sort"
   ]
  },
  {
   "cell_type": "markdown",
   "id": "54334a21-984d-45b3-8870-a9119b44ee1d",
   "metadata": {},
   "source": [
    "- Paso 1.- Ordeno el listado de palabras alfabeticamente con el comando ``sort``"
   ]
  },
  {
   "cell_type": "code",
   "execution_count": 3,
   "id": "b58e8000-396c-4ab5-bf95-776ab0c01956",
   "metadata": {},
   "outputs": [
    {
     "name": "stdout",
     "output_type": "stream",
     "text": [
      "   2 Apples\n",
      "   1 Grapes\n",
      "   1 Melon\n",
      "   1 Oranges\n",
      "   2 Peaches\n",
      "   1 Strawberries\n"
     ]
    }
   ],
   "source": [
    "!cat ./datasets/fruits.txt | sort | uniq -c "
   ]
  },
  {
   "cell_type": "markdown",
   "id": "d1136f06-fc34-44f4-a62e-35bb45402333",
   "metadata": {},
   "source": [
    "- Paso 2, el comando ``uniq -c`` toma estas repeticiones y las cuenta agregando una linea extra con el numero de incidencias"
   ]
  },
  {
   "cell_type": "code",
   "execution_count": 4,
   "id": "85c8500e-9a00-402a-80bc-22837ec13460",
   "metadata": {},
   "outputs": [
    {
     "name": "stdout",
     "output_type": "stream",
     "text": [
      "   1 Peaches\n",
      "   1 Apples\n",
      "   1 Strawberries\n",
      "   1 Grapes\n",
      "   1 Oranges\n",
      "   1 Apples\n",
      "   1 Peaches\n",
      "   1 Melon\n"
     ]
    }
   ],
   "source": [
    "!cat ./datasets/fruits.txt | uniq -c "
   ]
  },
  {
   "cell_type": "markdown",
   "id": "25bf41f5-fd46-483c-9ef8-8bda41d17e85",
   "metadata": {},
   "source": [
    "En este paso podemos ver que si no ordenamos previamente el listado no se realiza un conteo de repetidos"
   ]
  },
  {
   "cell_type": "code",
   "execution_count": 5,
   "id": "e482d850-96f9-45b1-8d0a-78febd0bc09b",
   "metadata": {},
   "outputs": [
    {
     "name": "stdout",
     "output_type": "stream",
     "text": [
      "   1 Grapes\n",
      "   1 Melon\n",
      "   1 Oranges\n",
      "   1 Strawberries\n",
      "   2 Apples\n",
      "   2 Peaches\n"
     ]
    }
   ],
   "source": [
    "!cat ./datasets/fruits.txt | sort | uniq -c | sort -n"
   ]
  },
  {
   "cell_type": "markdown",
   "id": "ef6a4ff6-55f7-43e6-ba63-da45b92c87f8",
   "metadata": {},
   "source": [
    "#### Uso de Variables entre Python y UX (bash)"
   ]
  },
  {
   "cell_type": "markdown",
   "id": "29afdc80-113e-4c98-9c7a-85720398829f",
   "metadata": {},
   "source": [
    "- 1 - Definimos Variables"
   ]
  },
  {
   "cell_type": "code",
   "execution_count": 8,
   "id": "3aa6870c-d84c-4a8f-93a5-3dedd9065374",
   "metadata": {},
   "outputs": [
    {
     "name": "stdout",
     "output_type": "stream",
     "text": [
      "variable python=./datasets/shakespeare.txt\n"
     ]
    }
   ],
   "source": [
    "filename = './datasets/shakespeare.txt'\n",
    "print(\"variable python=\" + filename)"
   ]
  },
  {
   "cell_type": "code",
   "execution_count": 9,
   "id": "a49def67-ed20-4c06-85eb-6ef3433d33f8",
   "metadata": {},
   "outputs": [
    {
     "name": "stdout",
     "output_type": "stream",
     "text": [
      "./datasets/shakespeare.txt\n"
     ]
    }
   ],
   "source": [
    "!echo $filename"
   ]
  },
  {
   "cell_type": "code",
   "execution_count": 12,
   "id": "3723dc3d-89aa-45af-a72d-8abc2857eb1a",
   "metadata": {},
   "outputs": [],
   "source": [
    "var1=6\n",
    "var2=3"
   ]
  },
  {
   "cell_type": "code",
   "execution_count": 13,
   "id": "8c243620-bfdd-45c9-992e-ce7ffb500e3c",
   "metadata": {},
   "outputs": [
    {
     "name": "stdout",
     "output_type": "stream",
     "text": [
      "18\n"
     ]
    }
   ],
   "source": [
    "sum=var1*var2\n",
    "print(sum)"
   ]
  },
  {
   "cell_type": "code",
   "execution_count": 14,
   "id": "11ff1c07-a96c-45be-94de-1ea6a95961ba",
   "metadata": {},
   "outputs": [
    {
     "name": "stdout",
     "output_type": "stream",
     "text": [
      "18\n"
     ]
    }
   ],
   "source": [
    "!echo $sum"
   ]
  },
  {
   "cell_type": "markdown",
   "id": "b5024287-650a-4735-9e49-30b1524fe421",
   "metadata": {},
   "source": [
    "#### Como obtendrias las lineas del archivo shakespare.txt que contengan la palabra **liberty**"
   ]
  },
  {
   "cell_type": "code",
   "execution_count": 16,
   "id": "95f7c283-8a1b-48b7-a39c-1b2c2201e63b",
   "metadata": {},
   "outputs": [
    {
     "name": "stdout",
     "output_type": "stream",
     "text": [
      "      72\n"
     ]
    }
   ],
   "source": [
    "!cat $filename | grep -i liberty | wc -l"
   ]
  },
  {
   "cell_type": "code",
   "execution_count": 23,
   "id": "f9e7aaa2-284a-4417-88b7-15e910b93d0d",
   "metadata": {},
   "outputs": [
    {
     "name": "stdout",
     "output_type": "stream",
     "text": [
      "    The Devil himself.\n",
      "  FLUELLEN. Though he be as good a gentleman as the Devil is, as\n",
      "    Devil or devil's dam, I'll conjure thee;\n",
      "  BEROWNE. Devils soonest tempt, resembling spirits of light.\n",
      "    To thy good truth and honor. Devilish Macbeth\n",
      "  OTHELLO. Devil!                                        Strikes her.\n",
      "    Creditors? Devils!\n"
     ]
    }
   ],
   "source": [
    "!cat $filename | grep Devil"
   ]
  },
  {
   "cell_type": "code",
   "execution_count": 24,
   "id": "55a59fd5-124c-47d7-8e81-759a6aeddd2a",
   "metadata": {},
   "outputs": [
    {
     "name": "stdout",
     "output_type": "stream",
     "text": [
      "/Users/khemtz/Desktop/Clase_Data_Science/python101\n"
     ]
    }
   ],
   "source": [
    "!pwd"
   ]
  }
 ],
 "metadata": {
  "kernelspec": {
   "display_name": "Python 3 (ipykernel)",
   "language": "python",
   "name": "python3"
  },
  "language_info": {
   "codemirror_mode": {
    "name": "ipython",
    "version": 3
   },
   "file_extension": ".py",
   "mimetype": "text/x-python",
   "name": "python",
   "nbconvert_exporter": "python",
   "pygments_lexer": "ipython3",
   "version": "3.12.3"
  }
 },
 "nbformat": 4,
 "nbformat_minor": 5
}
