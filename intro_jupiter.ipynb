{
 "cells": [
  {
   "cell_type": "code",
   "execution_count": 1,
   "id": "e95c02aa-4a71-47bd-b7c7-e8ef79c333b4",
   "metadata": {},
   "outputs": [
    {
     "name": "stdout",
     "output_type": "stream",
     "text": [
      "Hola mundo\n"
     ]
    }
   ],
   "source": [
    "print (\"Hola mundo\")"
   ]
  },
  {
   "cell_type": "code",
   "execution_count": 2,
   "id": "ab6585be-675a-4cf8-abd4-68f2377b090d",
   "metadata": {},
   "outputs": [
    {
     "data": {
      "text/plain": [
       "2160"
      ]
     },
     "execution_count": 2,
     "metadata": {},
     "output_type": "execute_result"
    }
   ],
   "source": [
    "3 * 12 * 60"
   ]
  },
  {
   "cell_type": "code",
   "execution_count": 4,
   "id": "53fbd1bf-b57c-4582-9581-e218350daabd",
   "metadata": {},
   "outputs": [
    {
     "name": "stdout",
     "output_type": "stream",
     "text": [
      "2160\n"
     ]
    }
   ],
   "source": [
    "var1 = 3 * 12 * 60\n",
    "print (var1)"
   ]
  },
  {
   "cell_type": "markdown",
   "id": "ed17900d-09a2-4dff-9194-9fd549658402",
   "metadata": {},
   "source": [
    "# Introduccion a libreta Jupyter\n",
    "## Formato basico markdown\n",
    "### tercera linea\n",
    "\n",
    "Este es un ejemplo de diferentes estilos de texto **negrita**, _cursiva_, ~~tachado~~, **_Cursiva Bold_**, <sub>subscript</sub>, <sup>subscript</sup>\n",
    "\n",
    "> este es un quote\n",
    "\n",
    "el uso del comando `git status` me responde los cambios en mi repo local\n",
    "\n",
    "Some basic Git commands are:\n",
    "```\n",
    "git status\n",
    "git add\n",
    "git commit\n",
    "```\n",
    "\n",
    "$$ \\int_{a}^{b} f(x) \\, dx = F(b) - F(a) $$\n",
    "\n",
    "$$ E = mc^2 $$\n",
    "\n",
    "para mas informacion:\n",
    "[aqui](https://docs.github.com/es/get-started/writing-on-github/getting-started-with-writing-and-formatting-on-github/basic-writing-and-formatting-syntax)"
   ]
  },
  {
   "cell_type": "code",
   "execution_count": null,
   "id": "2d228529-a780-4c7a-a707-1a2904cb1c7f",
   "metadata": {},
   "outputs": [],
   "source": []
  }
 ],
 "metadata": {
  "kernelspec": {
   "display_name": "Python 3 (ipykernel)",
   "language": "python",
   "name": "python3"
  },
  "language_info": {
   "codemirror_mode": {
    "name": "ipython",
    "version": 3
   },
   "file_extension": ".py",
   "mimetype": "text/x-python",
   "name": "python",
   "nbconvert_exporter": "python",
   "pygments_lexer": "ipython3",
   "version": "3.12.3"
  }
 },
 "nbformat": 4,
 "nbformat_minor": 5
}
