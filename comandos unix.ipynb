{
 "cells": [
  {
   "cell_type": "markdown",
   "id": "6edfb2a4-872b-4048-8e82-a23738241902",
   "metadata": {},
   "source": [
    "# COMANDOS UNIX\n",
    "\n",
    "Se utiliza el caracter ! para poder ejecutar comandos en la terminal"
   ]
  },
  {
   "cell_type": "code",
   "execution_count": 3,
   "id": "b03cd482-ddc4-417b-81c9-fd49300c8e63",
   "metadata": {},
   "outputs": [
    {
     "name": "stdout",
     "output_type": "stream",
     "text": [
      "fruits.txt      shakespeare.txt\n"
     ]
    }
   ],
   "source": [
    "!ls ./datasets"
   ]
  },
  {
   "cell_type": "markdown",
   "id": "0cd1348b-8d3a-48f5-b0e4-633b9d4a7c86",
   "metadata": {},
   "source": [
    "--------------------"
   ]
  },
  {
   "cell_type": "code",
   "execution_count": 6,
   "id": "39eca417-cab8-4bd2-bb56-1f370c131645",
   "metadata": {},
   "outputs": [
    {
     "name": "stdout",
     "output_type": "stream",
     "text": [
      "./datasets/shakespeare.txt\n",
      "./datasets/shakespeare.txt\n"
     ]
    }
   ],
   "source": [
    "filename = './datasets/shakespeare.txt'\n",
    "!echo $filename\n",
    "print (filename)"
   ]
  },
  {
   "cell_type": "markdown",
   "id": "0714c7f8-c243-45d1-8d59-2fba87a20fb8",
   "metadata": {},
   "source": [
    "## Comando head"
   ]
  },
  {
   "cell_type": "code",
   "execution_count": 7,
   "id": "ad7f748b-11b9-4a0d-86f0-7947917c3f08",
   "metadata": {},
   "outputs": [
    {
     "name": "stdout",
     "output_type": "stream",
     "text": [
      "This is the 100th Etext file presented by Project Gutenberg, and\n",
      "is presented in cooperation with World Library, Inc., from their\n",
      "Library of the Future and Shakespeare CDROMS.  Project Gutenberg\n"
     ]
    }
   ],
   "source": [
    "!head -n 3 $filename"
   ]
  },
  {
   "cell_type": "markdown",
   "id": "35d03c3a-e92d-492c-ba6c-31f9ba1dde1b",
   "metadata": {},
   "source": [
    "## Comando tail"
   ]
  },
  {
   "cell_type": "code",
   "execution_count": 10,
   "id": "eeef0c84-c2e0-462a-a87b-8e68b04577e2",
   "metadata": {},
   "outputs": [
    {
     "name": "stdout",
     "output_type": "stream",
     "text": [
      "\n",
      "End of this Etext of The Complete Works of William Shakespeare\n",
      "\n",
      "\n",
      "\n"
     ]
    }
   ],
   "source": [
    "!tail -5 $filename"
   ]
  },
  {
   "cell_type": "markdown",
   "id": "9e11d9fa-03ed-4256-900a-8d8fdfee3336",
   "metadata": {},
   "source": [
    "## Comando wc"
   ]
  },
  {
   "cell_type": "code",
   "execution_count": 11,
   "id": "6436d290-5af8-49ea-b27f-9e6ddcf6c2cd",
   "metadata": {},
   "outputs": [
    {
     "name": "stdout",
     "output_type": "stream",
     "text": [
      "  124505  901447 5583442 ./datasets/shakespeare.txt\n"
     ]
    }
   ],
   "source": [
    "!wc $filename"
   ]
  },
  {
   "cell_type": "code",
   "execution_count": 12,
   "id": "b47d4e10-c66f-49aa-bd4c-50005f5b6bf3",
   "metadata": {},
   "outputs": [
    {
     "name": "stdout",
     "output_type": "stream",
     "text": [
      "  124505 ./datasets/shakespeare.txt\n"
     ]
    }
   ],
   "source": [
    "!wc -l $filename"
   ]
  },
  {
   "cell_type": "markdown",
   "id": "9a5cfe95-3c31-4584-b7c6-83ed40af2962",
   "metadata": {},
   "source": [
    "## Grep"
   ]
  },
  {
   "cell_type": "code",
   "execution_count": 14,
   "id": "dadcbd9f-c0c2-468e-82c0-a27b9f78b9db",
   "metadata": {},
   "outputs": [
    {
     "name": "stdout",
     "output_type": "stream",
     "text": [
      "  Those pretty wrongs that liberty commits,\n",
      "  Th' imprisoned absence of your liberty,\n",
      "    May do a noble deed! He brings me liberty.\n",
      "    To liberty, and not to banishment.                    Exeunt\n",
      "    That I am wise. I must have liberty\n",
      "    death, thy liberty into bondage. I will deal in poison with thee,\n",
      "  A man is master of his liberty;\n",
      "ADRIANA. Why should their liberty than ours be more?\n",
      "LUCIANA. Why, headstrong liberty is lash'd with woe.\n",
      "  you, sir, like an evil angel, and bid you forsake your liberty.\n",
      "  Who give their eyes the liberty of gazing.\n",
      "  And gain a husband by his liberty.\n",
      "    liberty 'twould sure southward.\n",
      "    I think, to liberty. Yet am I better\n",
      "    To youth and liberty.\n",
      "    That they may seem the taints of liberty,\n",
      "    Plautus too light. For the law of writ and the liberty, these are\n",
      "    bar the door upon your own liberty, if you deny your griefs to\n",
      "    His liberty is full of threats to all-\n",
      "    In liberty of bloody hand shall range\n",
      "    fashion; we are the makers of manners, Kate; and the liberty that\n",
      "    I lost my liberty, and they their lives.\n",
      "    I may have liberty to venge this wrong;\n",
      "    To wall thee from the liberty of flight,\n",
      "    And try if they can gain your liberty.\n",
      "    Hath gain'd thy daughter princely liberty.\n",
      "    Now show yourselves men; 'tis for liberty.\n",
      "  YORK. How now! Is Somerset at liberty?\n",
      "    He hath good usage and great liberty;\n",
      "    And turn'd my captive state to liberty,\n",
      "    They quite forget their loss of liberty.  \n",
      "    My joy of liberty is half eclips'd.\n",
      "    To see you ta'en from liberty, to look on\n",
      "    Set at liberty; the fat ribs of peace\n",
      "    As they have given these hairs their liberty!'\n",
      "    But now I envy at their liberty,\n",
      "    That you have bid us ask his liberty;\n",
      "    Counts it your weal he have his liberty.\n",
      "    Let's all cry, \"Peace, freedom, and liberty!\"\n",
      "    The men that gave their country liberty.\n",
      "     Dearer than eyesight, space, and liberty;\n",
      "                                       Kent here set at liberty.\n",
      "  ARMADO. By my sweet soul, I mean setting thee at liberty,\n",
      "  ARMADO. I give thee thy liberty, set thee from durance; and, in  \n",
      "  CLAUDIO. From too much liberty, my Lucio, liberty;\n",
      "    And liberty plucks justice by the nose;\n",
      "    He- to give fear to use and liberty,\n",
      "    to his liberty or executed him? I have heard it was ever his\n",
      "  PROVOST. He will hear none. He hath evermore had the liberty of the\n",
      "    liberty, if I tell you of it; for he swears he'll turn me away.\n",
      "    my cage. If I had my mouth, I would bite; if I had my liberty, I\n",
      "    there is full liberty of feasting from this present hour of five\n",
      "    A sequester from liberty, fasting, and prayer,\n",
      "    Got my Lord Chamberlain his liberty.\n",
      "    Whiles kites and buzzards prey at liberty.\n",
      "  RIVERS. And so doth mine. I muse why she's at liberty.\n",
      "    Being pent from liberty as I am now,\n",
      "    Untainted, unexamin'd, free, at liberty.\n",
      "  Ben. By giving liberty unto thine eyes.\n",
      "    So loving-jealous of his liberty.\n",
      "    To prison, eyes; ne'er look on liberty!\n",
      "    This liberty is all that I request-\n",
      "    The patron of my life and liberty.\n",
      "  ARIEL. My liberty.\n",
      "    Let liberty make use of; space enough\n",
      "    We were awak'd; straightway at liberty;\n",
      "    I deriv'd liberty.\n",
      "    As lamely as their manners. Lust and liberty,\n",
      "    May a free face put on; derive a liberty\n",
      "  And now to tempt all liberty procured.\n"
     ]
    }
   ],
   "source": [
    "!cat $filename | grep 'liberty' "
   ]
  },
  {
   "cell_type": "code",
   "execution_count": 16,
   "id": "a48efcf0-5b5f-4b9c-b408-b609af3479e0",
   "metadata": {},
   "outputs": [
    {
     "name": "stdout",
     "output_type": "stream",
     "text": [
      "      71\n"
     ]
    }
   ],
   "source": [
    "!cat $filename | grep -o 'liberty' | wc -l"
   ]
  },
  {
   "cell_type": "markdown",
   "id": "3474cffe-b401-49f1-be6c-cad4cb804a2f",
   "metadata": {},
   "source": [
    "## sed"
   ]
  },
  {
   "cell_type": "code",
   "execution_count": 18,
   "id": "98960f3f-3647-47fd-99e1-95398091bb40",
   "metadata": {},
   "outputs": [],
   "source": [
    "!sed -e 's/parchment/manuscript/g' $filename > temp.txt"
   ]
  }
 ],
 "metadata": {
  "kernelspec": {
   "display_name": "Python 3 (ipykernel)",
   "language": "python",
   "name": "python3"
  },
  "language_info": {
   "codemirror_mode": {
    "name": "ipython",
    "version": 3
   },
   "file_extension": ".py",
   "mimetype": "text/x-python",
   "name": "python",
   "nbconvert_exporter": "python",
   "pygments_lexer": "ipython3",
   "version": "3.12.3"
  }
 },
 "nbformat": 4,
 "nbformat_minor": 5
}
