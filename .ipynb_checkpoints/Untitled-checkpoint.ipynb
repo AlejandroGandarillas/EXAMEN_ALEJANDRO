{
 "cells": [
  {
   "cell_type": "code",
   "execution_count": 1,
   "id": "19be2bce-040c-4fda-9f95-903f1e9543b1",
   "metadata": {},
   "outputs": [
    {
     "name": "stdout",
     "output_type": "stream",
     "text": [
      "hola mundo\n"
     ]
    }
   ],
   "source": [
    "var1 = \"hola mundo\"\n",
    "print (var1)"
   ]
  },
  {
   "cell_type": "code",
   "execution_count": 2,
   "id": "c536dbcb-9643-43bf-af41-a5b9855093b2",
   "metadata": {},
   "outputs": [],
   "source": [
    "var1 = 5"
   ]
  },
  {
   "cell_type": "code",
   "execution_count": null,
   "id": "edebb4cc-dd0e-4817-8287-3ecf3407cf4e",
   "metadata": {},
   "outputs": [],
   "source": [
    "var2 = 3"
   ]
  },
  {
   "cell_type": "code",
   "execution_count": 7,
   "id": "be57c7fd-4d93-45ee-a408-f96e2d713cbd",
   "metadata": {},
   "outputs": [
    {
     "name": "stdout",
     "output_type": "stream",
     "text": [
      "8\n",
      "la suma de var1 =5 y var2 =3 es igual a 8\n"
     ]
    }
   ],
   "source": [
    "var1=5\n",
    "var2=3\n",
    "suma=var1+var2\n",
    "print (suma)\n",
    "print (\"la suma de var1 =\" + str(var1) + \" y var2 =\" + str(var2) + \" es igual a \" + str(suma))\n",
    "\n"
   ]
  },
  {
   "cell_type": "code",
   "execution_count": 8,
   "id": "6437e6f9-33b3-45e1-adf0-14120b85f9ae",
   "metadata": {},
   "outputs": [
    {
     "name": "stdout",
     "output_type": "stream",
     "text": [
      "este es el resultado =12\n"
     ]
    }
   ],
   "source": [
    "var1=8\n",
    "var2=4\n",
    "suma=var1+var2\n",
    "print (\"este es el resultado =\" + str(suma))\n"
   ]
  }
 ],
 "metadata": {
  "kernelspec": {
   "display_name": "Python 3 (ipykernel)",
   "language": "python",
   "name": "python3"
  },
  "language_info": {
   "codemirror_mode": {
    "name": "ipython",
    "version": 3
   },
   "file_extension": ".py",
   "mimetype": "text/x-python",
   "name": "python",
   "nbconvert_exporter": "python",
   "pygments_lexer": "ipython3",
   "version": "3.12.3"
  }
 },
 "nbformat": 4,
 "nbformat_minor": 5
}
